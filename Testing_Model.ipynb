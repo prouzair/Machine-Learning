{
  "cells": [
    {
      "cell_type": "code",
      "execution_count": 1,
      "metadata": {
        "id": "32ey3evxy5aa"
      },
      "outputs": [],
      "source": [
        "import pandas as pd\n",
        "import numpy as np\n",
        "import pickle"
      ]
    },
    {
      "cell_type": "code",
      "execution_count": 2,
      "metadata": {
        "id": "TGsIdoRMzCQl"
      },
      "outputs": [],
      "source": [
        "from google.colab import drive"
      ]
    },
    {
      "cell_type": "code",
      "execution_count": 3,
      "metadata": {
        "colab": {
          "base_uri": "https://localhost:8080/"
        },
        "id": "cUunFocrzHrG",
        "outputId": "016d3468-1917-4e84-80c2-62594df6b647"
      },
      "outputs": [
        {
          "output_type": "stream",
          "name": "stdout",
          "text": [
            "Mounted at /content/drive\n"
          ]
        }
      ],
      "source": [
        "drive.mount('/content/drive')"
      ]
    },
    {
      "cell_type": "code",
      "execution_count": null,
      "metadata": {
        "id": "QKJXklnTzRQ9"
      },
      "outputs": [],
      "source": [
        "df=pickle.load(open('/content/drive/MyDrive/dataset_level2.pkl','rb'))"
      ]
    },
    {
      "cell_type": "code",
      "execution_count": null,
      "metadata": {
        "colab": {
          "base_uri": "https://localhost:8080/",
          "height": 423
        },
        "id": "03Y8aCdez3k4",
        "outputId": "1a278e95-b1e8-4b92-b84c-5a9392d77196"
      },
      "outputs": [
        {
          "data": {
            "text/html": [
              "\n",
              "  <div id=\"df-1dbba44e-8d4b-4f1c-a252-6b1ab9842fc9\">\n",
              "    <div class=\"colab-df-container\">\n",
              "      <div>\n",
              "<style scoped>\n",
              "    .dataframe tbody tr th:only-of-type {\n",
              "        vertical-align: middle;\n",
              "    }\n",
              "\n",
              "    .dataframe tbody tr th {\n",
              "        vertical-align: top;\n",
              "    }\n",
              "\n",
              "    .dataframe thead th {\n",
              "        text-align: right;\n",
              "    }\n",
              "</style>\n",
              "<table border=\"1\" class=\"dataframe\">\n",
              "  <thead>\n",
              "    <tr style=\"text-align: right;\">\n",
              "      <th></th>\n",
              "      <th>match_id</th>\n",
              "      <th>batting_team</th>\n",
              "      <th>bowling_team</th>\n",
              "      <th>ball</th>\n",
              "      <th>runs</th>\n",
              "      <th>player_dismissed</th>\n",
              "      <th>city</th>\n",
              "      <th>venue</th>\n",
              "    </tr>\n",
              "  </thead>\n",
              "  <tbody>\n",
              "    <tr>\n",
              "      <th>0</th>\n",
              "      <td>5</td>\n",
              "      <td>New Zealand</td>\n",
              "      <td>South Africa</td>\n",
              "      <td>0.1</td>\n",
              "      <td>0</td>\n",
              "      <td>0</td>\n",
              "      <td>Durban</td>\n",
              "      <td>Kingsmead</td>\n",
              "    </tr>\n",
              "    <tr>\n",
              "      <th>1</th>\n",
              "      <td>5</td>\n",
              "      <td>New Zealand</td>\n",
              "      <td>South Africa</td>\n",
              "      <td>0.2</td>\n",
              "      <td>0</td>\n",
              "      <td>0</td>\n",
              "      <td>Durban</td>\n",
              "      <td>Kingsmead</td>\n",
              "    </tr>\n",
              "    <tr>\n",
              "      <th>2</th>\n",
              "      <td>5</td>\n",
              "      <td>New Zealand</td>\n",
              "      <td>South Africa</td>\n",
              "      <td>0.3</td>\n",
              "      <td>1</td>\n",
              "      <td>0</td>\n",
              "      <td>Durban</td>\n",
              "      <td>Kingsmead</td>\n",
              "    </tr>\n",
              "    <tr>\n",
              "      <th>3</th>\n",
              "      <td>5</td>\n",
              "      <td>New Zealand</td>\n",
              "      <td>South Africa</td>\n",
              "      <td>0.4</td>\n",
              "      <td>0</td>\n",
              "      <td>0</td>\n",
              "      <td>Durban</td>\n",
              "      <td>Kingsmead</td>\n",
              "    </tr>\n",
              "    <tr>\n",
              "      <th>4</th>\n",
              "      <td>5</td>\n",
              "      <td>New Zealand</td>\n",
              "      <td>South Africa</td>\n",
              "      <td>0.5</td>\n",
              "      <td>0</td>\n",
              "      <td>0</td>\n",
              "      <td>Durban</td>\n",
              "      <td>Kingsmead</td>\n",
              "    </tr>\n",
              "    <tr>\n",
              "      <th>...</th>\n",
              "      <td>...</td>\n",
              "      <td>...</td>\n",
              "      <td>...</td>\n",
              "      <td>...</td>\n",
              "      <td>...</td>\n",
              "      <td>...</td>\n",
              "      <td>...</td>\n",
              "      <td>...</td>\n",
              "    </tr>\n",
              "    <tr>\n",
              "      <th>116</th>\n",
              "      <td>964</td>\n",
              "      <td>South Africa</td>\n",
              "      <td>Australia</td>\n",
              "      <td>19.2</td>\n",
              "      <td>1</td>\n",
              "      <td>0</td>\n",
              "      <td>Port Elizabeth</td>\n",
              "      <td>St George's Park</td>\n",
              "    </tr>\n",
              "    <tr>\n",
              "      <th>117</th>\n",
              "      <td>964</td>\n",
              "      <td>South Africa</td>\n",
              "      <td>Australia</td>\n",
              "      <td>19.3</td>\n",
              "      <td>4</td>\n",
              "      <td>0</td>\n",
              "      <td>Port Elizabeth</td>\n",
              "      <td>St George's Park</td>\n",
              "    </tr>\n",
              "    <tr>\n",
              "      <th>118</th>\n",
              "      <td>964</td>\n",
              "      <td>South Africa</td>\n",
              "      <td>Australia</td>\n",
              "      <td>19.4</td>\n",
              "      <td>1</td>\n",
              "      <td>0</td>\n",
              "      <td>Port Elizabeth</td>\n",
              "      <td>St George's Park</td>\n",
              "    </tr>\n",
              "    <tr>\n",
              "      <th>119</th>\n",
              "      <td>964</td>\n",
              "      <td>South Africa</td>\n",
              "      <td>Australia</td>\n",
              "      <td>19.5</td>\n",
              "      <td>1</td>\n",
              "      <td>0</td>\n",
              "      <td>Port Elizabeth</td>\n",
              "      <td>St George's Park</td>\n",
              "    </tr>\n",
              "    <tr>\n",
              "      <th>120</th>\n",
              "      <td>964</td>\n",
              "      <td>South Africa</td>\n",
              "      <td>Australia</td>\n",
              "      <td>19.6</td>\n",
              "      <td>2</td>\n",
              "      <td>0</td>\n",
              "      <td>Port Elizabeth</td>\n",
              "      <td>St George's Park</td>\n",
              "    </tr>\n",
              "  </tbody>\n",
              "</table>\n",
              "<p>64125 rows × 8 columns</p>\n",
              "</div>\n",
              "      <button class=\"colab-df-convert\" onclick=\"convertToInteractive('df-1dbba44e-8d4b-4f1c-a252-6b1ab9842fc9')\"\n",
              "              title=\"Convert this dataframe to an interactive table.\"\n",
              "              style=\"display:none;\">\n",
              "        \n",
              "  <svg xmlns=\"http://www.w3.org/2000/svg\" height=\"24px\"viewBox=\"0 0 24 24\"\n",
              "       width=\"24px\">\n",
              "    <path d=\"M0 0h24v24H0V0z\" fill=\"none\"/>\n",
              "    <path d=\"M18.56 5.44l.94 2.06.94-2.06 2.06-.94-2.06-.94-.94-2.06-.94 2.06-2.06.94zm-11 1L8.5 8.5l.94-2.06 2.06-.94-2.06-.94L8.5 2.5l-.94 2.06-2.06.94zm10 10l.94 2.06.94-2.06 2.06-.94-2.06-.94-.94-2.06-.94 2.06-2.06.94z\"/><path d=\"M17.41 7.96l-1.37-1.37c-.4-.4-.92-.59-1.43-.59-.52 0-1.04.2-1.43.59L10.3 9.45l-7.72 7.72c-.78.78-.78 2.05 0 2.83L4 21.41c.39.39.9.59 1.41.59.51 0 1.02-.2 1.41-.59l7.78-7.78 2.81-2.81c.8-.78.8-2.07 0-2.86zM5.41 20L4 18.59l7.72-7.72 1.47 1.35L5.41 20z\"/>\n",
              "  </svg>\n",
              "      </button>\n",
              "      \n",
              "  <style>\n",
              "    .colab-df-container {\n",
              "      display:flex;\n",
              "      flex-wrap:wrap;\n",
              "      gap: 12px;\n",
              "    }\n",
              "\n",
              "    .colab-df-convert {\n",
              "      background-color: #E8F0FE;\n",
              "      border: none;\n",
              "      border-radius: 50%;\n",
              "      cursor: pointer;\n",
              "      display: none;\n",
              "      fill: #1967D2;\n",
              "      height: 32px;\n",
              "      padding: 0 0 0 0;\n",
              "      width: 32px;\n",
              "    }\n",
              "\n",
              "    .colab-df-convert:hover {\n",
              "      background-color: #E2EBFA;\n",
              "      box-shadow: 0px 1px 2px rgba(60, 64, 67, 0.3), 0px 1px 3px 1px rgba(60, 64, 67, 0.15);\n",
              "      fill: #174EA6;\n",
              "    }\n",
              "\n",
              "    [theme=dark] .colab-df-convert {\n",
              "      background-color: #3B4455;\n",
              "      fill: #D2E3FC;\n",
              "    }\n",
              "\n",
              "    [theme=dark] .colab-df-convert:hover {\n",
              "      background-color: #434B5C;\n",
              "      box-shadow: 0px 1px 3px 1px rgba(0, 0, 0, 0.15);\n",
              "      filter: drop-shadow(0px 1px 2px rgba(0, 0, 0, 0.3));\n",
              "      fill: #FFFFFF;\n",
              "    }\n",
              "  </style>\n",
              "\n",
              "      <script>\n",
              "        const buttonEl =\n",
              "          document.querySelector('#df-1dbba44e-8d4b-4f1c-a252-6b1ab9842fc9 button.colab-df-convert');\n",
              "        buttonEl.style.display =\n",
              "          google.colab.kernel.accessAllowed ? 'block' : 'none';\n",
              "\n",
              "        async function convertToInteractive(key) {\n",
              "          const element = document.querySelector('#df-1dbba44e-8d4b-4f1c-a252-6b1ab9842fc9');\n",
              "          const dataTable =\n",
              "            await google.colab.kernel.invokeFunction('convertToInteractive',\n",
              "                                                     [key], {});\n",
              "          if (!dataTable) return;\n",
              "\n",
              "          const docLinkHtml = 'Like what you see? Visit the ' +\n",
              "            '<a target=\"_blank\" href=https://colab.research.google.com/notebooks/data_table.ipynb>data table notebook</a>'\n",
              "            + ' to learn more about interactive tables.';\n",
              "          element.innerHTML = '';\n",
              "          dataTable['output_type'] = 'display_data';\n",
              "          await google.colab.output.renderOutput(dataTable, element);\n",
              "          const docLink = document.createElement('div');\n",
              "          docLink.innerHTML = docLinkHtml;\n",
              "          element.appendChild(docLink);\n",
              "        }\n",
              "      </script>\n",
              "    </div>\n",
              "  </div>\n",
              "  "
            ],
            "text/plain": [
              "     match_id  batting_team  bowling_team  ball  runs player_dismissed  \\\n",
              "0           5   New Zealand  South Africa   0.1     0                0   \n",
              "1           5   New Zealand  South Africa   0.2     0                0   \n",
              "2           5   New Zealand  South Africa   0.3     1                0   \n",
              "3           5   New Zealand  South Africa   0.4     0                0   \n",
              "4           5   New Zealand  South Africa   0.5     0                0   \n",
              "..        ...           ...           ...   ...   ...              ...   \n",
              "116       964  South Africa     Australia  19.2     1                0   \n",
              "117       964  South Africa     Australia  19.3     4                0   \n",
              "118       964  South Africa     Australia  19.4     1                0   \n",
              "119       964  South Africa     Australia  19.5     1                0   \n",
              "120       964  South Africa     Australia  19.6     2                0   \n",
              "\n",
              "               city             venue  \n",
              "0            Durban         Kingsmead  \n",
              "1            Durban         Kingsmead  \n",
              "2            Durban         Kingsmead  \n",
              "3            Durban         Kingsmead  \n",
              "4            Durban         Kingsmead  \n",
              "..              ...               ...  \n",
              "116  Port Elizabeth  St George's Park  \n",
              "117  Port Elizabeth  St George's Park  \n",
              "118  Port Elizabeth  St George's Park  \n",
              "119  Port Elizabeth  St George's Park  \n",
              "120  Port Elizabeth  St George's Park  \n",
              "\n",
              "[64125 rows x 8 columns]"
            ]
          },
          "execution_count": 5,
          "metadata": {},
          "output_type": "execute_result"
        }
      ],
      "source": [
        "df\n",
        "\n",
        "# batting_team\n",
        "# bowling_team\n",
        "# city\n",
        "# current_score\n",
        "# balls left\n",
        "# wickets left\n",
        "# curr rr\n",
        "# runs in last five overs\n",
        "\n"
      ]
    },
    {
      "cell_type": "code",
      "execution_count": null,
      "metadata": {
        "colab": {
          "base_uri": "https://localhost:8080/"
        },
        "id": "2dizpl7S0NAM",
        "outputId": "66cefd70-8af5-44ec-ff39-a757ba477c6c"
      },
      "outputs": [
        {
          "data": {
            "text/plain": [
              "match_id               0\n",
              "batting_team           0\n",
              "bowling_team           0\n",
              "ball                   0\n",
              "runs                   0\n",
              "player_dismissed       0\n",
              "city                8671\n",
              "venue                  0\n",
              "dtype: int64"
            ]
          },
          "execution_count": 7,
          "metadata": {},
          "output_type": "execute_result"
        }
      ],
      "source": [
        "df.isna().sum()"
      ]
    },
    {
      "cell_type": "code",
      "execution_count": null,
      "metadata": {
        "colab": {
          "base_uri": "https://localhost:8080/"
        },
        "id": "vzMbkmmG0T8T",
        "outputId": "40fbc023-ac0e-4ad4-c8ab-c460d3d5d359"
      },
      "outputs": [
        {
          "data": {
            "text/plain": [
              "Dubai International Cricket Stadium        3092\n",
              "Pallekele International Cricket Stadium    2066\n",
              "Melbourne Cricket Ground                   1453\n",
              "Sydney Cricket Ground                       749\n",
              "Adelaide Oval                               498\n",
              "Harare Sports Club                          372\n",
              "Sharjah Cricket Stadium                     249\n",
              "Sylhet International Cricket Stadium        128\n",
              "Carrara Oval                                 64\n",
              "Name: venue, dtype: int64"
            ]
          },
          "execution_count": 12,
          "metadata": {},
          "output_type": "execute_result"
        }
      ],
      "source": [
        "df[df['city'].isna()]['venue'].value_counts()"
      ]
    },
    {
      "cell_type": "code",
      "execution_count": null,
      "metadata": {
        "id": "FeKh9bq-085A"
      },
      "outputs": [],
      "source": [
        "cities=np.where(df['city'].isnull(),df['venue'].str.split().apply(lambda x: x[0]),df['city'])"
      ]
    },
    {
      "cell_type": "code",
      "execution_count": null,
      "metadata": {
        "id": "U0bRb4hn1hxb"
      },
      "outputs": [],
      "source": [
        "df['city'] = cities"
      ]
    },
    {
      "cell_type": "code",
      "execution_count": null,
      "metadata": {
        "id": "mTRG14DU1o5K"
      },
      "outputs": [],
      "source": [
        "df.isnull().sum()"
      ]
    },
    {
      "cell_type": "code",
      "execution_count": null,
      "metadata": {
        "id": "d4EIIa4O11zM"
      },
      "outputs": [],
      "source": [
        "df.drop(columns=['venue'],inplace=True)"
      ]
    },
    {
      "cell_type": "code",
      "execution_count": null,
      "metadata": {
        "id": "RQStYkul1_jO"
      },
      "outputs": [],
      "source": [
        "eligible_cities = df['city'].value_counts()[df['city'].value_counts() > 600].index.tolist()"
      ]
    },
    {
      "cell_type": "code",
      "execution_count": null,
      "metadata": {
        "id": "iZG3H5XQ22jP"
      },
      "outputs": [],
      "source": [
        "df = df[df['city'].isin(eligible_cities)]"
      ]
    },
    {
      "cell_type": "code",
      "execution_count": null,
      "metadata": {
        "id": "vB6Qd_rq3nK7"
      },
      "outputs": [],
      "source": [
        "df\n"
      ]
    },
    {
      "cell_type": "code",
      "execution_count": null,
      "metadata": {
        "id": "dgnqXc3e3LwW"
      },
      "outputs": [],
      "source": [
        "df['current_score'] = df.groupby('match_id').cumsum()['runs']"
      ]
    },
    {
      "cell_type": "code",
      "execution_count": null,
      "metadata": {
        "id": "NAXpRMh64xSn"
      },
      "outputs": [],
      "source": [
        "df['over'] = df['ball'].apply(lambda x:str(x).split(\".\")[0])\n",
        "\n",
        "df['ball_no'] = df['ball'].apply(lambda x:str(x).split(\".\")[1])"
      ]
    },
    {
      "cell_type": "code",
      "execution_count": null,
      "metadata": {
        "id": "869R-d_e6NOB"
      },
      "outputs": [],
      "source": [
        "df['balls_bowled'] = (df['over'].astype('int')*6) + df['ball_no'].astype('int')"
      ]
    },
    {
      "cell_type": "code",
      "execution_count": null,
      "metadata": {
        "id": "Eq0-EpGZ66G3"
      },
      "outputs": [],
      "source": [
        "df['balls_left'] = 120 - df['balls_bowled']\n",
        "df['balls_left'] = df['balls_left'].apply(lambda x: 0 if x<0 else x)"
      ]
    },
    {
      "cell_type": "code",
      "execution_count": null,
      "metadata": {
        "id": "uhO5SLJe7T33"
      },
      "outputs": [],
      "source": [
        "df['player_dismissed'] = df['player_dismissed'].apply(lambda x:0 if x=='0' else 1)\n",
        "df['player_dismissed'] = df['player_dismissed'].astype('int')\n",
        "df['player_dismissed'] = df.groupby('match_id').cumsum()['player_dismissed']\n",
        "df['wickets_left'] = 10-df['player_dismissed']\n"
      ]
    },
    {
      "cell_type": "code",
      "execution_count": null,
      "metadata": {
        "id": "ZIhTwlql8Xwy"
      },
      "outputs": [],
      "source": [
        "df['crr'] = (df['current_score']*6)/df['balls_bowled']"
      ]
    },
    {
      "cell_type": "code",
      "execution_count": null,
      "metadata": {
        "id": "YZN-N5AG8trV"
      },
      "outputs": [],
      "source": [
        "groups = df.groupby('match_id')\n",
        "\n",
        "match_ids = df['match_id'].unique()\n",
        "\n",
        "last_five=[]\n",
        "\n",
        "for id in match_ids:\n",
        "  last_five.extend(groups.get_group(id).rolling(window=30).sum()['runs'].values.tolist())\n",
        "\n"
      ]
    },
    {
      "cell_type": "code",
      "execution_count": null,
      "metadata": {
        "id": "ZVkOPKHX9diH"
      },
      "outputs": [],
      "source": [
        "df['last_five'] = last_five"
      ]
    },
    {
      "cell_type": "code",
      "execution_count": null,
      "metadata": {
        "id": "sIVoGEYj90MA"
      },
      "outputs": [],
      "source": [
        "final_df = df.groupby('match_id').sum()['runs'].reset_index().merge(df,on='match_id')"
      ]
    },
    {
      "cell_type": "code",
      "execution_count": null,
      "metadata": {
        "id": "QXMS8bQt_Dcr"
      },
      "outputs": [],
      "source": [
        "final_df=final_df[['batting_team','bowling_team','city','current_score','balls_left','wickets_left','crr','last_five','runs_x']]"
      ]
    },
    {
      "cell_type": "code",
      "execution_count": null,
      "metadata": {
        "id": "St4JHs13_ZnT"
      },
      "outputs": [],
      "source": [
        "final_df.dropna(inplace=True)"
      ]
    },
    {
      "cell_type": "code",
      "execution_count": null,
      "metadata": {
        "id": "kkXOjGC8_oDi"
      },
      "outputs": [],
      "source": [
        "final_df.isnull().sum()"
      ]
    },
    {
      "cell_type": "code",
      "execution_count": null,
      "metadata": {
        "id": "eUphLG___uPG"
      },
      "outputs": [],
      "source": [
        "final_df=final_df.sample(final_df.shape[0]) # bayas??"
      ]
    },
    {
      "cell_type": "code",
      "execution_count": null,
      "metadata": {
        "id": "UKDzPveX_9pt"
      },
      "outputs": [],
      "source": [
        "final_df # runs x is output"
      ]
    },
    {
      "cell_type": "code",
      "execution_count": null,
      "metadata": {
        "id": "PS4recexAH2_"
      },
      "outputs": [],
      "source": [
        "pickle.dump(final_df,open('featureset_level1.pkl','wb'))"
      ]
    },
    {
      "cell_type": "code",
      "execution_count": 4,
      "metadata": {
        "id": "tjtmSWxG79u0"
      },
      "outputs": [],
      "source": [
        "features = pickle.load(open('/content/drive/MyDrive/featureset_level1.pkl','rb'))"
      ]
    },
    {
      "cell_type": "code",
      "execution_count": 5,
      "metadata": {
        "colab": {
          "base_uri": "https://localhost:8080/",
          "height": 423
        },
        "id": "wumKYMXx8M_Z",
        "outputId": "041ed4cb-cd51-4ef8-a2b9-2257bcb2c58e"
      },
      "outputs": [
        {
          "output_type": "execute_result",
          "data": {
            "text/plain": [
              "       batting_team bowling_team        city  current_score  balls_left  \\\n",
              "7664          India     Pakistan      Durban            124          16   \n",
              "41536      Pakistan  West Indies    Trinidad             97          19   \n",
              "48194    Bangladesh     Pakistan      Lahore             84          36   \n",
              "46902   West Indies        India  Lauderhill             70          26   \n",
              "35912         India   Bangladesh  Nottingham             62          72   \n",
              "...             ...          ...         ...            ...         ...   \n",
              "26833   New Zealand    Sri Lanka  Lauderhill             65          48   \n",
              "34059      Pakistan        India     Colombo             36          90   \n",
              "32446  South Africa  New Zealand      London            113          11   \n",
              "20612   New Zealand   Bangladesh     Kolkata             41          81   \n",
              "18549   New Zealand    Sri Lanka     Colombo             84          59   \n",
              "\n",
              "       wickets_left       crr  last_five  runs_x  \n",
              "7664              3  7.153846       41.0     141  \n",
              "41536             2  5.762376       30.0     132  \n",
              "48194             7  6.000000       39.0     136  \n",
              "46902             3  4.468085       25.0      95  \n",
              "35912             9  7.750000       42.0     180  \n",
              "...             ...       ...        ...     ...  \n",
              "26833             7  5.416667       28.0     120  \n",
              "34059             8  7.200000       30.0     128  \n",
              "32446             4  6.220183       40.0     128  \n",
              "20612             9  6.307692       28.0     145  \n",
              "18549            10  8.262295       38.0     170  \n",
              "\n",
              "[38563 rows x 9 columns]"
            ],
            "text/html": [
              "\n",
              "  <div id=\"df-69ff1e67-563f-43aa-b04f-0ac22f9a5248\">\n",
              "    <div class=\"colab-df-container\">\n",
              "      <div>\n",
              "<style scoped>\n",
              "    .dataframe tbody tr th:only-of-type {\n",
              "        vertical-align: middle;\n",
              "    }\n",
              "\n",
              "    .dataframe tbody tr th {\n",
              "        vertical-align: top;\n",
              "    }\n",
              "\n",
              "    .dataframe thead th {\n",
              "        text-align: right;\n",
              "    }\n",
              "</style>\n",
              "<table border=\"1\" class=\"dataframe\">\n",
              "  <thead>\n",
              "    <tr style=\"text-align: right;\">\n",
              "      <th></th>\n",
              "      <th>batting_team</th>\n",
              "      <th>bowling_team</th>\n",
              "      <th>city</th>\n",
              "      <th>current_score</th>\n",
              "      <th>balls_left</th>\n",
              "      <th>wickets_left</th>\n",
              "      <th>crr</th>\n",
              "      <th>last_five</th>\n",
              "      <th>runs_x</th>\n",
              "    </tr>\n",
              "  </thead>\n",
              "  <tbody>\n",
              "    <tr>\n",
              "      <th>7664</th>\n",
              "      <td>India</td>\n",
              "      <td>Pakistan</td>\n",
              "      <td>Durban</td>\n",
              "      <td>124</td>\n",
              "      <td>16</td>\n",
              "      <td>3</td>\n",
              "      <td>7.153846</td>\n",
              "      <td>41.0</td>\n",
              "      <td>141</td>\n",
              "    </tr>\n",
              "    <tr>\n",
              "      <th>41536</th>\n",
              "      <td>Pakistan</td>\n",
              "      <td>West Indies</td>\n",
              "      <td>Trinidad</td>\n",
              "      <td>97</td>\n",
              "      <td>19</td>\n",
              "      <td>2</td>\n",
              "      <td>5.762376</td>\n",
              "      <td>30.0</td>\n",
              "      <td>132</td>\n",
              "    </tr>\n",
              "    <tr>\n",
              "      <th>48194</th>\n",
              "      <td>Bangladesh</td>\n",
              "      <td>Pakistan</td>\n",
              "      <td>Lahore</td>\n",
              "      <td>84</td>\n",
              "      <td>36</td>\n",
              "      <td>7</td>\n",
              "      <td>6.000000</td>\n",
              "      <td>39.0</td>\n",
              "      <td>136</td>\n",
              "    </tr>\n",
              "    <tr>\n",
              "      <th>46902</th>\n",
              "      <td>West Indies</td>\n",
              "      <td>India</td>\n",
              "      <td>Lauderhill</td>\n",
              "      <td>70</td>\n",
              "      <td>26</td>\n",
              "      <td>3</td>\n",
              "      <td>4.468085</td>\n",
              "      <td>25.0</td>\n",
              "      <td>95</td>\n",
              "    </tr>\n",
              "    <tr>\n",
              "      <th>35912</th>\n",
              "      <td>India</td>\n",
              "      <td>Bangladesh</td>\n",
              "      <td>Nottingham</td>\n",
              "      <td>62</td>\n",
              "      <td>72</td>\n",
              "      <td>9</td>\n",
              "      <td>7.750000</td>\n",
              "      <td>42.0</td>\n",
              "      <td>180</td>\n",
              "    </tr>\n",
              "    <tr>\n",
              "      <th>...</th>\n",
              "      <td>...</td>\n",
              "      <td>...</td>\n",
              "      <td>...</td>\n",
              "      <td>...</td>\n",
              "      <td>...</td>\n",
              "      <td>...</td>\n",
              "      <td>...</td>\n",
              "      <td>...</td>\n",
              "      <td>...</td>\n",
              "    </tr>\n",
              "    <tr>\n",
              "      <th>26833</th>\n",
              "      <td>New Zealand</td>\n",
              "      <td>Sri Lanka</td>\n",
              "      <td>Lauderhill</td>\n",
              "      <td>65</td>\n",
              "      <td>48</td>\n",
              "      <td>7</td>\n",
              "      <td>5.416667</td>\n",
              "      <td>28.0</td>\n",
              "      <td>120</td>\n",
              "    </tr>\n",
              "    <tr>\n",
              "      <th>34059</th>\n",
              "      <td>Pakistan</td>\n",
              "      <td>India</td>\n",
              "      <td>Colombo</td>\n",
              "      <td>36</td>\n",
              "      <td>90</td>\n",
              "      <td>8</td>\n",
              "      <td>7.200000</td>\n",
              "      <td>30.0</td>\n",
              "      <td>128</td>\n",
              "    </tr>\n",
              "    <tr>\n",
              "      <th>32446</th>\n",
              "      <td>South Africa</td>\n",
              "      <td>New Zealand</td>\n",
              "      <td>London</td>\n",
              "      <td>113</td>\n",
              "      <td>11</td>\n",
              "      <td>4</td>\n",
              "      <td>6.220183</td>\n",
              "      <td>40.0</td>\n",
              "      <td>128</td>\n",
              "    </tr>\n",
              "    <tr>\n",
              "      <th>20612</th>\n",
              "      <td>New Zealand</td>\n",
              "      <td>Bangladesh</td>\n",
              "      <td>Kolkata</td>\n",
              "      <td>41</td>\n",
              "      <td>81</td>\n",
              "      <td>9</td>\n",
              "      <td>6.307692</td>\n",
              "      <td>28.0</td>\n",
              "      <td>145</td>\n",
              "    </tr>\n",
              "    <tr>\n",
              "      <th>18549</th>\n",
              "      <td>New Zealand</td>\n",
              "      <td>Sri Lanka</td>\n",
              "      <td>Colombo</td>\n",
              "      <td>84</td>\n",
              "      <td>59</td>\n",
              "      <td>10</td>\n",
              "      <td>8.262295</td>\n",
              "      <td>38.0</td>\n",
              "      <td>170</td>\n",
              "    </tr>\n",
              "  </tbody>\n",
              "</table>\n",
              "<p>38563 rows × 9 columns</p>\n",
              "</div>\n",
              "      <button class=\"colab-df-convert\" onclick=\"convertToInteractive('df-69ff1e67-563f-43aa-b04f-0ac22f9a5248')\"\n",
              "              title=\"Convert this dataframe to an interactive table.\"\n",
              "              style=\"display:none;\">\n",
              "        \n",
              "  <svg xmlns=\"http://www.w3.org/2000/svg\" height=\"24px\"viewBox=\"0 0 24 24\"\n",
              "       width=\"24px\">\n",
              "    <path d=\"M0 0h24v24H0V0z\" fill=\"none\"/>\n",
              "    <path d=\"M18.56 5.44l.94 2.06.94-2.06 2.06-.94-2.06-.94-.94-2.06-.94 2.06-2.06.94zm-11 1L8.5 8.5l.94-2.06 2.06-.94-2.06-.94L8.5 2.5l-.94 2.06-2.06.94zm10 10l.94 2.06.94-2.06 2.06-.94-2.06-.94-.94-2.06-.94 2.06-2.06.94z\"/><path d=\"M17.41 7.96l-1.37-1.37c-.4-.4-.92-.59-1.43-.59-.52 0-1.04.2-1.43.59L10.3 9.45l-7.72 7.72c-.78.78-.78 2.05 0 2.83L4 21.41c.39.39.9.59 1.41.59.51 0 1.02-.2 1.41-.59l7.78-7.78 2.81-2.81c.8-.78.8-2.07 0-2.86zM5.41 20L4 18.59l7.72-7.72 1.47 1.35L5.41 20z\"/>\n",
              "  </svg>\n",
              "      </button>\n",
              "      \n",
              "  <style>\n",
              "    .colab-df-container {\n",
              "      display:flex;\n",
              "      flex-wrap:wrap;\n",
              "      gap: 12px;\n",
              "    }\n",
              "\n",
              "    .colab-df-convert {\n",
              "      background-color: #E8F0FE;\n",
              "      border: none;\n",
              "      border-radius: 50%;\n",
              "      cursor: pointer;\n",
              "      display: none;\n",
              "      fill: #1967D2;\n",
              "      height: 32px;\n",
              "      padding: 0 0 0 0;\n",
              "      width: 32px;\n",
              "    }\n",
              "\n",
              "    .colab-df-convert:hover {\n",
              "      background-color: #E2EBFA;\n",
              "      box-shadow: 0px 1px 2px rgba(60, 64, 67, 0.3), 0px 1px 3px 1px rgba(60, 64, 67, 0.15);\n",
              "      fill: #174EA6;\n",
              "    }\n",
              "\n",
              "    [theme=dark] .colab-df-convert {\n",
              "      background-color: #3B4455;\n",
              "      fill: #D2E3FC;\n",
              "    }\n",
              "\n",
              "    [theme=dark] .colab-df-convert:hover {\n",
              "      background-color: #434B5C;\n",
              "      box-shadow: 0px 1px 3px 1px rgba(0, 0, 0, 0.15);\n",
              "      filter: drop-shadow(0px 1px 2px rgba(0, 0, 0, 0.3));\n",
              "      fill: #FFFFFF;\n",
              "    }\n",
              "  </style>\n",
              "\n",
              "      <script>\n",
              "        const buttonEl =\n",
              "          document.querySelector('#df-69ff1e67-563f-43aa-b04f-0ac22f9a5248 button.colab-df-convert');\n",
              "        buttonEl.style.display =\n",
              "          google.colab.kernel.accessAllowed ? 'block' : 'none';\n",
              "\n",
              "        async function convertToInteractive(key) {\n",
              "          const element = document.querySelector('#df-69ff1e67-563f-43aa-b04f-0ac22f9a5248');\n",
              "          const dataTable =\n",
              "            await google.colab.kernel.invokeFunction('convertToInteractive',\n",
              "                                                     [key], {});\n",
              "          if (!dataTable) return;\n",
              "\n",
              "          const docLinkHtml = 'Like what you see? Visit the ' +\n",
              "            '<a target=\"_blank\" href=https://colab.research.google.com/notebooks/data_table.ipynb>data table notebook</a>'\n",
              "            + ' to learn more about interactive tables.';\n",
              "          element.innerHTML = '';\n",
              "          dataTable['output_type'] = 'display_data';\n",
              "          await google.colab.output.renderOutput(dataTable, element);\n",
              "          const docLink = document.createElement('div');\n",
              "          docLink.innerHTML = docLinkHtml;\n",
              "          element.appendChild(docLink);\n",
              "        }\n",
              "      </script>\n",
              "    </div>\n",
              "  </div>\n",
              "  "
            ]
          },
          "metadata": {},
          "execution_count": 5
        }
      ],
      "source": [
        "features"
      ]
    },
    {
      "cell_type": "code",
      "execution_count": null,
      "metadata": {
        "id": "PAJQJq_vVM3D"
      },
      "outputs": [],
      "source": [
        "backup = features.copy()\n",
        "backup"
      ]
    },
    {
      "cell_type": "code",
      "execution_count": 6,
      "metadata": {
        "id": "QXWqcogyVaDg"
      },
      "outputs": [],
      "source": [
        "X = features.drop(columns=['runs_x'])\n",
        "Y = features['runs_x']\n",
        "\n",
        "from sklearn.model_selection import train_test_split\n",
        "X_train,X_test,Y_train,Y_test = train_test_split(X,Y,test_size=0.2,random_state=1)"
      ]
    },
    {
      "cell_type": "code",
      "source": [
        "import matplotlib.pyplot as plt\n",
        "plt.rcParams['figure.figsize'] = [15, 6]"
      ],
      "metadata": {
        "id": "p3MZVGIH7LnJ"
      },
      "execution_count": 25,
      "outputs": []
    },
    {
      "cell_type": "code",
      "source": [
        "plt.title('BattingTeams x FinalScore')\n",
        "plt.scatter(X['batting_team'],Y)\n",
        "plt.xlabel('Batting Teams')\n",
        "plt.ylabel('Final Score')\n",
        "plt.show()"
      ],
      "metadata": {
        "colab": {
          "base_uri": "https://localhost:8080/",
          "height": 564
        },
        "id": "HgL7qGI27Ve_",
        "outputId": "f36bbd20-a5ae-423d-f431-61fe86dbf5c7"
      },
      "execution_count": 29,
      "outputs": [
        {
          "output_type": "display_data",
          "data": {
            "text/plain": [
              "<Figure size 1500x600 with 1 Axes>"
            ],
            "image/png": "[encoded data removed]"
          },
          "metadata": {}
        }
      ]
    },
    {
      "cell_type": "code",
      "source": [
        "plt.title('BowlingTeams x FinalScore')\n",
        "plt.scatter(X['bowling_team'],Y)\n",
        "plt.xlabel('Bowling Teams')\n",
        "plt.ylabel('Final Score')\n",
        "plt.show()"
      ],
      "metadata": {
        "colab": {
          "base_uri": "https://localhost:8080/",
          "height": 564
        },
        "id": "XTP2KcfIAVfm",
        "outputId": "39ba631a-5787-42a8-8322-740f05ca06aa"
      },
      "execution_count": 30,
      "outputs": [
        {
          "output_type": "display_data",
          "data": {
            "text/plain": [
              "<Figure size 1500x600 with 1 Axes>"
            ],
            "image/png": "[encoded data removed]"
          },
          "metadata": {}
        }
      ]
    },
    {
      "cell_type": "code",
      "source": [
        "plt.title('City x FinalScore')\n",
        "plt.scatter(X['city'],Y)\n",
        "plt.xlabel('City')\n",
        "plt.ylabel('Final Score')\n",
        "plt.show()"
      ],
      "metadata": {
        "colab": {
          "base_uri": "https://localhost:8080/",
          "height": 564
        },
        "id": "OSKDJeoSAmEe",
        "outputId": "4ae09d65-7b2d-4561-c411-c5828a8c46fd"
      },
      "execution_count": 31,
      "outputs": [
        {
          "output_type": "display_data",
          "data": {
            "text/plain": [
              "<Figure size 1500x600 with 1 Axes>"
            ],
            "image/png": "[encoded data removed]"
          },
          "metadata": {}
        }
      ]
    },
    {
      "cell_type": "code",
      "source": [
        "features.corr()"
      ],
      "metadata": {
        "colab": {
          "base_uri": "https://localhost:8080/",
          "height": 292
        },
        "id": "pTsI8d2wBhQZ",
        "outputId": "120ccd48-b614-48e0-8e37-4526da3a6543"
      },
      "execution_count": 32,
      "outputs": [
        {
          "output_type": "stream",
          "name": "stderr",
          "text": [
            "<ipython-input-32-83b1bbe52583>:1: FutureWarning: The default value of numeric_only in DataFrame.corr is deprecated. In a future version, it will default to False. Select only valid columns or specify the value of numeric_only to silence this warning.\n",
            "  features.corr()\n"
          ]
        },
        {
          "output_type": "execute_result",
          "data": {
            "text/plain": [
              "               current_score  balls_left  wickets_left       crr  last_five  \\\n",
              "current_score       1.000000   -0.862458     -0.385879  0.540672   0.527708   \n",
              "balls_left         -0.862458    1.000000      0.666547 -0.082984  -0.194395   \n",
              "wickets_left       -0.385879    0.666547      1.000000  0.301223   0.235389   \n",
              "crr                 0.540672   -0.082984      0.301223  1.000000   0.767684   \n",
              "last_five           0.527708   -0.194395      0.235389  0.767684   1.000000   \n",
              "runs_x              0.428561   -0.035401      0.384102  0.759832   0.614497   \n",
              "\n",
              "                 runs_x  \n",
              "current_score  0.428561  \n",
              "balls_left    -0.035401  \n",
              "wickets_left   0.384102  \n",
              "crr            0.759832  \n",
              "last_five      0.614497  \n",
              "runs_x         1.000000  "
            ],
            "text/html": [
              "\n",
              "  <div id=\"df-f335ca49-2dbe-4a06-a1c9-f73e953fa512\">\n",
              "    <div class=\"colab-df-container\">\n",
              "      <div>\n",
              "<style scoped>\n",
              "    .dataframe tbody tr th:only-of-type {\n",
              "        vertical-align: middle;\n",
              "    }\n",
              "\n",
              "    .dataframe tbody tr th {\n",
              "        vertical-align: top;\n",
              "    }\n",
              "\n",
              "    .dataframe thead th {\n",
              "        text-align: right;\n",
              "    }\n",
              "</style>\n",
              "<table border=\"1\" class=\"dataframe\">\n",
              "  <thead>\n",
              "    <tr style=\"text-align: right;\">\n",
              "      <th></th>\n",
              "      <th>current_score</th>\n",
              "      <th>balls_left</th>\n",
              "      <th>wickets_left</th>\n",
              "      <th>crr</th>\n",
              "      <th>last_five</th>\n",
              "      <th>runs_x</th>\n",
              "    </tr>\n",
              "  </thead>\n",
              "  <tbody>\n",
              "    <tr>\n",
              "      <th>current_score</th>\n",
              "      <td>1.000000</td>\n",
              "      <td>-0.862458</td>\n",
              "      <td>-0.385879</td>\n",
              "      <td>0.540672</td>\n",
              "      <td>0.527708</td>\n",
              "      <td>0.428561</td>\n",
              "    </tr>\n",
              "    <tr>\n",
              "      <th>balls_left</th>\n",
              "      <td>-0.862458</td>\n",
              "      <td>1.000000</td>\n",
              "      <td>0.666547</td>\n",
              "      <td>-0.082984</td>\n",
              "      <td>-0.194395</td>\n",
              "      <td>-0.035401</td>\n",
              "    </tr>\n",
              "    <tr>\n",
              "      <th>wickets_left</th>\n",
              "      <td>-0.385879</td>\n",
              "      <td>0.666547</td>\n",
              "      <td>1.000000</td>\n",
              "      <td>0.301223</td>\n",
              "      <td>0.235389</td>\n",
              "      <td>0.384102</td>\n",
              "    </tr>\n",
              "    <tr>\n",
              "      <th>crr</th>\n",
              "      <td>0.540672</td>\n",
              "      <td>-0.082984</td>\n",
              "      <td>0.301223</td>\n",
              "      <td>1.000000</td>\n",
              "      <td>0.767684</td>\n",
              "      <td>0.759832</td>\n",
              "    </tr>\n",
              "    <tr>\n",
              "      <th>last_five</th>\n",
              "      <td>0.527708</td>\n",
              "      <td>-0.194395</td>\n",
              "      <td>0.235389</td>\n",
              "      <td>0.767684</td>\n",
              "      <td>1.000000</td>\n",
              "      <td>0.614497</td>\n",
              "    </tr>\n",
              "    <tr>\n",
              "      <th>runs_x</th>\n",
              "      <td>0.428561</td>\n",
              "      <td>-0.035401</td>\n",
              "      <td>0.384102</td>\n",
              "      <td>0.759832</td>\n",
              "      <td>0.614497</td>\n",
              "      <td>1.000000</td>\n",
              "    </tr>\n",
              "  </tbody>\n",
              "</table>\n",
              "</div>\n",
              "      <button class=\"colab-df-convert\" onclick=\"convertToInteractive('df-f335ca49-2dbe-4a06-a1c9-f73e953fa512')\"\n",
              "              title=\"Convert this dataframe to an interactive table.\"\n",
              "              style=\"display:none;\">\n",
              "        \n",
              "  <svg xmlns=\"http://www.w3.org/2000/svg\" height=\"24px\"viewBox=\"0 0 24 24\"\n",
              "       width=\"24px\">\n",
              "    <path d=\"M0 0h24v24H0V0z\" fill=\"none\"/>\n",
              "    <path d=\"M18.56 5.44l.94 2.06.94-2.06 2.06-.94-2.06-.94-.94-2.06-.94 2.06-2.06.94zm-11 1L8.5 8.5l.94-2.06 2.06-.94-2.06-.94L8.5 2.5l-.94 2.06-2.06.94zm10 10l.94 2.06.94-2.06 2.06-.94-2.06-.94-.94-2.06-.94 2.06-2.06.94z\"/><path d=\"M17.41 7.96l-1.37-1.37c-.4-.4-.92-.59-1.43-.59-.52 0-1.04.2-1.43.59L10.3 9.45l-7.72 7.72c-.78.78-.78 2.05 0 2.83L4 21.41c.39.39.9.59 1.41.59.51 0 1.02-.2 1.41-.59l7.78-7.78 2.81-2.81c.8-.78.8-2.07 0-2.86zM5.41 20L4 18.59l7.72-7.72 1.47 1.35L5.41 20z\"/>\n",
              "  </svg>\n",
              "      </button>\n",
              "      \n",
              "  <style>\n",
              "    .colab-df-container {\n",
              "      display:flex;\n",
              "      flex-wrap:wrap;\n",
              "      gap: 12px;\n",
              "    }\n",
              "\n",
              "    .colab-df-convert {\n",
              "      background-color: #E8F0FE;\n",
              "      border: none;\n",
              "      border-radius: 50%;\n",
              "      cursor: pointer;\n",
              "      display: none;\n",
              "      fill: #1967D2;\n",
              "      height: 32px;\n",
              "      padding: 0 0 0 0;\n",
              "      width: 32px;\n",
              "    }\n",
              "\n",
              "    .colab-df-convert:hover {\n",
              "      background-color: #E2EBFA;\n",
              "      box-shadow: 0px 1px 2px rgba(60, 64, 67, 0.3), 0px 1px 3px 1px rgba(60, 64, 67, 0.15);\n",
              "      fill: #174EA6;\n",
              "    }\n",
              "\n",
              "    [theme=dark] .colab-df-convert {\n",
              "      background-color: #3B4455;\n",
              "      fill: #D2E3FC;\n",
              "    }\n",
              "\n",
              "    [theme=dark] .colab-df-convert:hover {\n",
              "      background-color: #434B5C;\n",
              "      box-shadow: 0px 1px 3px 1px rgba(0, 0, 0, 0.15);\n",
              "      filter: drop-shadow(0px 1px 2px rgba(0, 0, 0, 0.3));\n",
              "      fill: #FFFFFF;\n",
              "    }\n",
              "  </style>\n",
              "\n",
              "      <script>\n",
              "        const buttonEl =\n",
              "          document.querySelector('#df-f335ca49-2dbe-4a06-a1c9-f73e953fa512 button.colab-df-convert');\n",
              "        buttonEl.style.display =\n",
              "          google.colab.kernel.accessAllowed ? 'block' : 'none';\n",
              "\n",
              "        async function convertToInteractive(key) {\n",
              "          const element = document.querySelector('#df-f335ca49-2dbe-4a06-a1c9-f73e953fa512');\n",
              "          const dataTable =\n",
              "            await google.colab.kernel.invokeFunction('convertToInteractive',\n",
              "                                                     [key], {});\n",
              "          if (!dataTable) return;\n",
              "\n",
              "          const docLinkHtml = 'Like what you see? Visit the ' +\n",
              "            '<a target=\"_blank\" href=https://colab.research.google.com/notebooks/data_table.ipynb>data table notebook</a>'\n",
              "            + ' to learn more about interactive tables.';\n",
              "          element.innerHTML = '';\n",
              "          dataTable['output_type'] = 'display_data';\n",
              "          await google.colab.output.renderOutput(dataTable, element);\n",
              "          const docLink = document.createElement('div');\n",
              "          docLink.innerHTML = docLinkHtml;\n",
              "          element.appendChild(docLink);\n",
              "        }\n",
              "      </script>\n",
              "    </div>\n",
              "  </div>\n",
              "  "
            ]
          },
          "metadata": {},
          "execution_count": 32
        }
      ]
    },
    {
      "cell_type": "code",
      "execution_count": null,
      "metadata": {
        "colab": {
          "base_uri": "https://localhost:8080/",
          "height": 487
        },
        "id": "Gpyw3oCWWNCQ",
        "outputId": "34b3f672-9dd7-46f3-a011-51ab2ea8decf"
      },
      "outputs": [
        {
          "output_type": "execute_result",
          "data": {
            "text/plain": [
              "       batting_team bowling_team          city  current_score  balls_left  \\\n",
              "24398         India    Australia      Adelaide            186           1   \n",
              "46998      Pakistan  New Zealand      Auckland             54          52   \n",
              "48930   Afghanistan  West Indies      St Kitts             57          41   \n",
              "42165       England  New Zealand  Christchurch            171          10   \n",
              "48423   West Indies  New Zealand      Auckland             59          53   \n",
              "...             ...          ...           ...            ...         ...   \n",
              "39749   New Zealand        India      Auckland             39          91   \n",
              "21512    Bangladesh        India        Mirpur             58          72   \n",
              "13422  South Africa    Australia        Sydney            143           1   \n",
              "43832   New Zealand        India  Johannesburg             47          85   \n",
              "48039     Sri Lanka        India       Colombo             76          71   \n",
              "\n",
              "       wickets_left       crr  last_five  \n",
              "24398             7  9.378151       52.0  \n",
              "46998             5  4.764706       23.0  \n",
              "48930             3  4.329114       17.0  \n",
              "42165             6  9.327273       56.0  \n",
              "48423             6  5.283582       36.0  \n",
              "...             ...       ...        ...  \n",
              "39749            10  8.068966       39.0  \n",
              "21512             8  7.250000       44.0  \n",
              "13422             4  7.210084       28.0  \n",
              "43832             9  8.057143       39.0  \n",
              "48039             8  9.306122       42.0  \n",
              "\n",
              "[30850 rows x 8 columns]"
            ],
            "text/html": [
              "\n",
              "  <div id=\"df-59dd96d7-2754-4ec6-b7b8-82cff147f693\">\n",
              "    <div class=\"colab-df-container\">\n",
              "      <div>\n",
              "<style scoped>\n",
              "    .dataframe tbody tr th:only-of-type {\n",
              "        vertical-align: middle;\n",
              "    }\n",
              "\n",
              "    .dataframe tbody tr th {\n",
              "        vertical-align: top;\n",
              "    }\n",
              "\n",
              "    .dataframe thead th {\n",
              "        text-align: right;\n",
              "    }\n",
              "</style>\n",
              "<table border=\"1\" class=\"dataframe\">\n",
              "  <thead>\n",
              "    <tr style=\"text-align: right;\">\n",
              "      <th></th>\n",
              "      <th>batting_team</th>\n",
              "      <th>bowling_team</th>\n",
              "      <th>city</th>\n",
              "      <th>current_score</th>\n",
              "      <th>balls_left</th>\n",
              "      <th>wickets_left</th>\n",
              "      <th>crr</th>\n",
              "      <th>last_five</th>\n",
              "    </tr>\n",
              "  </thead>\n",
              "  <tbody>\n",
              "    <tr>\n",
              "      <th>24398</th>\n",
              "      <td>India</td>\n",
              "      <td>Australia</td>\n",
              "      <td>Adelaide</td>\n",
              "      <td>186</td>\n",
              "      <td>1</td>\n",
              "      <td>7</td>\n",
              "      <td>9.378151</td>\n",
              "      <td>52.0</td>\n",
              "    </tr>\n",
              "    <tr>\n",
              "      <th>46998</th>\n",
              "      <td>Pakistan</td>\n",
              "      <td>New Zealand</td>\n",
              "      <td>Auckland</td>\n",
              "      <td>54</td>\n",
              "      <td>52</td>\n",
              "      <td>5</td>\n",
              "      <td>4.764706</td>\n",
              "      <td>23.0</td>\n",
              "    </tr>\n",
              "    <tr>\n",
              "      <th>48930</th>\n",
              "      <td>Afghanistan</td>\n",
              "      <td>West Indies</td>\n",
              "      <td>St Kitts</td>\n",
              "      <td>57</td>\n",
              "      <td>41</td>\n",
              "      <td>3</td>\n",
              "      <td>4.329114</td>\n",
              "      <td>17.0</td>\n",
              "    </tr>\n",
              "    <tr>\n",
              "      <th>42165</th>\n",
              "      <td>England</td>\n",
              "      <td>New Zealand</td>\n",
              "      <td>Christchurch</td>\n",
              "      <td>171</td>\n",
              "      <td>10</td>\n",
              "      <td>6</td>\n",
              "      <td>9.327273</td>\n",
              "      <td>56.0</td>\n",
              "    </tr>\n",
              "    <tr>\n",
              "      <th>48423</th>\n",
              "      <td>West Indies</td>\n",
              "      <td>New Zealand</td>\n",
              "      <td>Auckland</td>\n",
              "      <td>59</td>\n",
              "      <td>53</td>\n",
              "      <td>6</td>\n",
              "      <td>5.283582</td>\n",
              "      <td>36.0</td>\n",
              "    </tr>\n",
              "    <tr>\n",
              "      <th>...</th>\n",
              "      <td>...</td>\n",
              "      <td>...</td>\n",
              "      <td>...</td>\n",
              "      <td>...</td>\n",
              "      <td>...</td>\n",
              "      <td>...</td>\n",
              "      <td>...</td>\n",
              "      <td>...</td>\n",
              "    </tr>\n",
              "    <tr>\n",
              "      <th>39749</th>\n",
              "      <td>New Zealand</td>\n",
              "      <td>India</td>\n",
              "      <td>Auckland</td>\n",
              "      <td>39</td>\n",
              "      <td>91</td>\n",
              "      <td>10</td>\n",
              "      <td>8.068966</td>\n",
              "      <td>39.0</td>\n",
              "    </tr>\n",
              "    <tr>\n",
              "      <th>21512</th>\n",
              "      <td>Bangladesh</td>\n",
              "      <td>India</td>\n",
              "      <td>Mirpur</td>\n",
              "      <td>58</td>\n",
              "      <td>72</td>\n",
              "      <td>8</td>\n",
              "      <td>7.250000</td>\n",
              "      <td>44.0</td>\n",
              "    </tr>\n",
              "    <tr>\n",
              "      <th>13422</th>\n",
              "      <td>South Africa</td>\n",
              "      <td>Australia</td>\n",
              "      <td>Sydney</td>\n",
              "      <td>143</td>\n",
              "      <td>1</td>\n",
              "      <td>4</td>\n",
              "      <td>7.210084</td>\n",
              "      <td>28.0</td>\n",
              "    </tr>\n",
              "    <tr>\n",
              "      <th>43832</th>\n",
              "      <td>New Zealand</td>\n",
              "      <td>India</td>\n",
              "      <td>Johannesburg</td>\n",
              "      <td>47</td>\n",
              "      <td>85</td>\n",
              "      <td>9</td>\n",
              "      <td>8.057143</td>\n",
              "      <td>39.0</td>\n",
              "    </tr>\n",
              "    <tr>\n",
              "      <th>48039</th>\n",
              "      <td>Sri Lanka</td>\n",
              "      <td>India</td>\n",
              "      <td>Colombo</td>\n",
              "      <td>76</td>\n",
              "      <td>71</td>\n",
              "      <td>8</td>\n",
              "      <td>9.306122</td>\n",
              "      <td>42.0</td>\n",
              "    </tr>\n",
              "  </tbody>\n",
              "</table>\n",
              "<p>30850 rows × 8 columns</p>\n",
              "</div>\n",
              "      <button class=\"colab-df-convert\" onclick=\"convertToInteractive('df-59dd96d7-2754-4ec6-b7b8-82cff147f693')\"\n",
              "              title=\"Convert this dataframe to an interactive table.\"\n",
              "              style=\"display:none;\">\n",
              "        \n",
              "  <svg xmlns=\"http://www.w3.org/2000/svg\" height=\"24px\"viewBox=\"0 0 24 24\"\n",
              "       width=\"24px\">\n",
              "    <path d=\"M0 0h24v24H0V0z\" fill=\"none\"/>\n",
              "    <path d=\"M18.56 5.44l.94 2.06.94-2.06 2.06-.94-2.06-.94-.94-2.06-.94 2.06-2.06.94zm-11 1L8.5 8.5l.94-2.06 2.06-.94-2.06-.94L8.5 2.5l-.94 2.06-2.06.94zm10 10l.94 2.06.94-2.06 2.06-.94-2.06-.94-.94-2.06-.94 2.06-2.06.94z\"/><path d=\"M17.41 7.96l-1.37-1.37c-.4-.4-.92-.59-1.43-.59-.52 0-1.04.2-1.43.59L10.3 9.45l-7.72 7.72c-.78.78-.78 2.05 0 2.83L4 21.41c.39.39.9.59 1.41.59.51 0 1.02-.2 1.41-.59l7.78-7.78 2.81-2.81c.8-.78.8-2.07 0-2.86zM5.41 20L4 18.59l7.72-7.72 1.47 1.35L5.41 20z\"/>\n",
              "  </svg>\n",
              "      </button>\n",
              "      \n",
              "  <style>\n",
              "    .colab-df-container {\n",
              "      display:flex;\n",
              "      flex-wrap:wrap;\n",
              "      gap: 12px;\n",
              "    }\n",
              "\n",
              "    .colab-df-convert {\n",
              "      background-color: #E8F0FE;\n",
              "      border: none;\n",
              "      border-radius: 50%;\n",
              "      cursor: pointer;\n",
              "      display: none;\n",
              "      fill: #1967D2;\n",
              "      height: 32px;\n",
              "      padding: 0 0 0 0;\n",
              "      width: 32px;\n",
              "    }\n",
              "\n",
              "    .colab-df-convert:hover {\n",
              "      background-color: #E2EBFA;\n",
              "      box-shadow: 0px 1px 2px rgba(60, 64, 67, 0.3), 0px 1px 3px 1px rgba(60, 64, 67, 0.15);\n",
              "      fill: #174EA6;\n",
              "    }\n",
              "\n",
              "    [theme=dark] .colab-df-convert {\n",
              "      background-color: #3B4455;\n",
              "      fill: #D2E3FC;\n",
              "    }\n",
              "\n",
              "    [theme=dark] .colab-df-convert:hover {\n",
              "      background-color: #434B5C;\n",
              "      box-shadow: 0px 1px 3px 1px rgba(0, 0, 0, 0.15);\n",
              "      filter: drop-shadow(0px 1px 2px rgba(0, 0, 0, 0.3));\n",
              "      fill: #FFFFFF;\n",
              "    }\n",
              "  </style>\n",
              "\n",
              "      <script>\n",
              "        const buttonEl =\n",
              "          document.querySelector('#df-59dd96d7-2754-4ec6-b7b8-82cff147f693 button.colab-df-convert');\n",
              "        buttonEl.style.display =\n",
              "          google.colab.kernel.accessAllowed ? 'block' : 'none';\n",
              "\n",
              "        async function convertToInteractive(key) {\n",
              "          const element = document.querySelector('#df-59dd96d7-2754-4ec6-b7b8-82cff147f693');\n",
              "          const dataTable =\n",
              "            await google.colab.kernel.invokeFunction('convertToInteractive',\n",
              "                                                     [key], {});\n",
              "          if (!dataTable) return;\n",
              "\n",
              "          const docLinkHtml = 'Like what you see? Visit the ' +\n",
              "            '<a target=\"_blank\" href=https://colab.research.google.com/notebooks/data_table.ipynb>data table notebook</a>'\n",
              "            + ' to learn more about interactive tables.';\n",
              "          element.innerHTML = '';\n",
              "          dataTable['output_type'] = 'display_data';\n",
              "          await google.colab.output.renderOutput(dataTable, element);\n",
              "          const docLink = document.createElement('div');\n",
              "          docLink.innerHTML = docLinkHtml;\n",
              "          element.appendChild(docLink);\n",
              "        }\n",
              "      </script>\n",
              "    </div>\n",
              "  </div>\n",
              "  "
            ]
          },
          "metadata": {},
          "execution_count": 7
        }
      ],
      "source": [
        "X_train"
      ]
    },
    {
      "cell_type": "code",
      "execution_count": null,
      "metadata": {
        "id": "I3XLKG3XWYfe"
      },
      "outputs": [],
      "source": [
        "from sklearn.compose import ColumnTransformer\n",
        "from sklearn.preprocessing import OneHotEncoder\n",
        "from sklearn.pipeline import Pipeline\n",
        "from sklearn.preprocessing import StandardScaler\n",
        "from sklearn.ensemble import RandomForestRegressor\n",
        "from xgboost import XGBRegressor\n",
        "from sklearn.metrics import r2_score,mean_absolute_error"
      ]
    },
    {
      "cell_type": "code",
      "execution_count": null,
      "metadata": {
        "id": "L_ceGyBNXHyb"
      },
      "outputs": [],
      "source": [
        "trf = ColumnTransformer([\n",
        "    ('trf',OneHotEncoder(sparse=False,drop='first'),['batting_team','bowling_team','city'])\n",
        "],remainder='passthrough')"
      ]
    },
    {
      "cell_type": "code",
      "execution_count": null,
      "metadata": {
        "id": "gVe3ayxwXj6R"
      },
      "outputs": [],
      "source": [
        "pipe = Pipeline(steps=[\n",
        "    ('step1',trf),\n",
        "    ('step2',StandardScaler()),\n",
        "    ('step3',XGBRegressor(n_estimators=1000,learning_rate=0.2,max_depth=12,random_state=1))\n",
        "])"
      ]
    },
    {
      "cell_type": "code",
      "execution_count": null,
      "metadata": {
        "colab": {
          "base_uri": "https://localhost:8080/"
        },
        "id": "P35e2WXBYCPh",
        "outputId": "806cda2a-29e9-46dc-8ebb-d8dffc52b504"
      },
      "outputs": [
        {
          "output_type": "stream",
          "name": "stderr",
          "text": [
            "/usr/local/lib/python3.10/dist-packages/sklearn/preprocessing/_encoders.py:868: FutureWarning: `sparse` was renamed to `sparse_output` in version 1.2 and will be removed in 1.4. `sparse_output` is ignored unless you leave `sparse` to its default value.\n",
            "  warnings.warn(\n"
          ]
        },
        {
          "output_type": "stream",
          "name": "stdout",
          "text": [
            "0.9884202798086636\n",
            "1.655053564937418\n"
          ]
        }
      ],
      "source": [
        "pipe.fit(X_train,Y_train)\n",
        "Y_pred = pipe.predict(X_test)\n",
        "\n",
        "print(r2_score(Y_test,Y_pred))\n",
        "print(mean_absolute_error(Y_test,Y_pred))"
      ]
    },
    {
      "cell_type": "code",
      "source": [
        "pickle.dump(pipe,open('/content/drive/MyDrive/pipe.pkl','wb'))"
      ],
      "metadata": {
        "id": "bxkhjfh9w4Ux"
      },
      "execution_count": null,
      "outputs": []
    },
    {
      "cell_type": "code",
      "source": [
        "pipe = pickle.load(open('/content/drive/MyDrive/pipe.pkl','rb'))"
      ],
      "metadata": {
        "id": "1pVLBUMPVl50"
      },
      "execution_count": null,
      "outputs": []
    },
    {
      "cell_type": "code",
      "source": [
        "# batting_team='West Indies'\n",
        "# bowling_team='Pakistan'\n",
        "# city = 'Dubai'\n",
        "# current_score=98\n",
        "# wickets = 5\n",
        "# overs = 17\n",
        "# last_five = 38\n",
        "\n",
        "batting_team='India'\n",
        "bowling_team='Pakistan'\n",
        "city = 'Dubai'\n",
        "current_score=127\n",
        "wickets = 5\n",
        "overs = 18\n",
        "last_five = 40"
      ],
      "metadata": {
        "id": "TsBxA4RAYYKx"
      },
      "execution_count": null,
      "outputs": []
    },
    {
      "cell_type": "code",
      "source": [
        "balls_left = 120 - (overs*6)\n",
        "wickets = 10-wickets\n",
        "crr = current_score / overs"
      ],
      "metadata": {
        "id": "LhfaOX88YKrs"
      },
      "execution_count": null,
      "outputs": []
    },
    {
      "cell_type": "code",
      "source": [
        "\n",
        "\n",
        "\n",
        "\n",
        "\n",
        "test_df = pd.DataFrame({'batting_team':[batting_team],'bowling_team':[bowling_team],'city':city, 'current_score':[current_score],'balls_left':[balls_left],'wickets_left':[wickets],'crr':[crr], 'last_five':[last_five]})"
      ],
      "metadata": {
        "id": "Y-GE7MJ_WGOV"
      },
      "execution_count": null,
      "outputs": []
    },
    {
      "cell_type": "code",
      "source": [
        "pred_score = pipe.predict(test_df)\n",
        "print(int(pred_score))"
      ],
      "metadata": {
        "colab": {
          "base_uri": "https://localhost:8080/"
        },
        "id": "u0-fcUYpX381",
        "outputId": "fba34e3e-cace-4482-adbd-e0905ccddc9c"
      },
      "execution_count": null,
      "outputs": [
        {
          "output_type": "stream",
          "name": "stdout",
          "text": [
            "147\n"
          ]
        }
      ]
    }
  ],
  "metadata": {
    "colab": {
      "provenance": []
    },
    "kernelspec": {
      "display_name": "Python 3",
      "name": "python3"
    },
    "language_info": {
      "name": "python"
    }
  },
  "nbformat": 4,
  "nbformat_minor": 0
}