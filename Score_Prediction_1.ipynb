{
  "nbformat": 4,
  "nbformat_minor": 0,
  "metadata": {
    "colab": {
      "provenance": []
    },
    "kernelspec": {
      "name": "python3",
      "display_name": "Python 3"
    },
    "language_info": {
      "name": "python"
    }
  },
  "cells": [
    {
      "cell_type": "code",
      "execution_count": null,
      "metadata": {
        "id": "7WY5beBqhi2d"
      },
      "outputs": [],
      "source": [
        "from google.colab import drive"
      ]
    },
    {
      "cell_type": "code",
      "source": [
        "drive.mount('/content/drive')"
      ],
      "metadata": {
        "id": "HPXGGDkYpbCR"
      },
      "execution_count": null,
      "outputs": []
    },
    {
      "cell_type": "code",
      "source": [
        "import numpy as np\n",
        "import pandas as pd\n",
        "from yaml import safe_load\n",
        "import os \n",
        "from tqdm import tqdm"
      ],
      "metadata": {
        "id": "o4JCUtDQpjrs"
      },
      "execution_count": null,
      "outputs": []
    },
    {
      "cell_type": "code",
      "source": [
        "filenames = []\n",
        "\n",
        "\n",
        "for file in os.listdir('/content/drive/MyDrive/DataT20'):\n",
        "  filenames.append(os.path.join('/content/drive/MyDrive/DataT20',file))\n"
      ],
      "metadata": {
        "id": "pAedJyOLpn3s"
      },
      "execution_count": null,
      "outputs": []
    },
    {
      "cell_type": "code",
      "source": [
        "final_df = pd.DataFrame() \n",
        "counter =1\n",
        "\n",
        "for file in tqdm(filenames):\n",
        "   with open(file,'r') as f: \n",
        "     df = pd.json_normalize(safe_load(f)) \n",
        "     df['match_id'] = counter \n",
        "     final_df = final_df.append(df) \n",
        "     counter+=1\n",
        "\n",
        "final_df\n",
        "\n"
      ],
      "metadata": {
        "id": "jLV9A_8ewstS"
      },
      "execution_count": null,
      "outputs": []
    },
    {
      "cell_type": "code",
      "source": [
        "backup = final_df.copy()"
      ],
      "metadata": {
        "id": "EUGSZMwtxKZf"
      },
      "execution_count": null,
      "outputs": []
    },
    {
      "cell_type": "code",
      "source": [
        "final_df"
      ],
      "metadata": {
        "id": "ylfDmCkow5aQ"
      },
      "execution_count": null,
      "outputs": []
    },
    {
      "cell_type": "code",
      "source": [
        "final_df.drop(columns=[\n",
        "\t'meta.data_version',\n",
        "\t'meta.created',\n",
        "\t'meta.revision',\n",
        "\t'info.outcome.bowl_out',\n",
        "  'info.outcome.method',\n",
        "  'info.bowl_out',\n",
        "\t'info.supersubs.South Africa',\n",
        "\t'info.supersubs.New Zealand',\n",
        "\t'info.outcome.eliminator',\n",
        "\t'info.outcome.result',\n",
        "\t'info.neutral_venue',\n",
        "\t'info.match_type_number',\n",
        "\t'info.outcome.by.runs',\n",
        "\t'info.outcome.by.wickets'\n",
        "],inplace=True)"
      ],
      "metadata": {
        "id": "4F9X7E0jyoz3"
      },
      "execution_count": null,
      "outputs": []
    },
    {
      "cell_type": "code",
      "source": [
        "final_df['info.gender'].value_counts()"
      ],
      "metadata": {
        "colab": {
          "base_uri": "https://localhost:8080/"
        },
        "id": "DII3Evrozn46",
        "outputId": "b7fa00c1-20fe-4cf1-ff7e-083a3d687baf"
      },
      "execution_count": null,
      "outputs": [
        {
          "output_type": "execute_result",
          "data": {
            "text/plain": [
              "male      966\n",
              "female    466\n",
              "Name: info.gender, dtype: int64"
            ]
          },
          "metadata": {},
          "execution_count": 12
        }
      ]
    },
    {
      "cell_type": "code",
      "source": [
        "final_df = final_df[final_df['info.gender']=='male']\n",
        "final_df.drop(columns=['info.gender'],inplace=True)\n",
        "final_df"
      ],
      "metadata": {
        "id": "4w862wLP1YZh"
      },
      "execution_count": null,
      "outputs": []
    },
    {
      "cell_type": "code",
      "source": [
        "final_df['info.match_type'].value_counts()"
      ],
      "metadata": {
        "colab": {
          "base_uri": "https://localhost:8080/"
        },
        "id": "rQ14hMHN2HhD",
        "outputId": "4ebfdda4-e9c0-487b-e950-8adc6d8f6d93"
      },
      "execution_count": null,
      "outputs": [
        {
          "output_type": "execute_result",
          "data": {
            "text/plain": [
              "T20    966\n",
              "Name: info.match_type, dtype: int64"
            ]
          },
          "metadata": {},
          "execution_count": 14
        }
      ]
    },
    {
      "cell_type": "code",
      "source": [
        "final_df['info.overs'].value_counts()"
      ],
      "metadata": {
        "colab": {
          "base_uri": "https://localhost:8080/"
        },
        "id": "gY-uVtbg2W0Z",
        "outputId": "78d9146c-f24d-4425-a19d-d711f2a517ad"
      },
      "execution_count": null,
      "outputs": [
        {
          "output_type": "execute_result",
          "data": {
            "text/plain": [
              "20    963\n",
              "50      3\n",
              "Name: info.overs, dtype: int64"
            ]
          },
          "metadata": {},
          "execution_count": 15
        }
      ]
    },
    {
      "cell_type": "code",
      "source": [
        "final_df = final_df[final_df['info.overs']==20]\n",
        "final_df.drop(columns=['info.overs','info.match_type'],inplace=True)"
      ],
      "metadata": {
        "colab": {
          "base_uri": "https://localhost:8080/"
        },
        "id": "u9dnWOHO2jDy",
        "outputId": "8dc26e88-6ee4-4bc5-bc6a-63b369f762b1"
      },
      "execution_count": null,
      "outputs": [
        {
          "output_type": "stream",
          "name": "stderr",
          "text": [
            "<ipython-input-16-228d3f39b723>:2: SettingWithCopyWarning: \n",
            "A value is trying to be set on a copy of a slice from a DataFrame\n",
            "\n",
            "See the caveats in the documentation: https://pandas.pydata.org/pandas-docs/stable/user_guide/indexing.html#returning-a-view-versus-a-copy\n",
            "  final_df.drop(columns=['info.overs','info.match_type'],inplace=True)\n"
          ]
        }
      ]
    },
    {
      "cell_type": "code",
      "source": [
        "final_df\n",
        "backup2=final_df.copy()\n"
      ],
      "metadata": {
        "id": "J4FGILHx3FdY"
      },
      "execution_count": null,
      "outputs": []
    },
    {
      "cell_type": "code",
      "source": [
        "import pickle\n",
        "pickle.dump(final_df,open('dataset_level1.pkl','wb'))"
      ],
      "metadata": {
        "id": "KwhWZy5s3fgx"
      },
      "execution_count": null,
      "outputs": []
    },
    {
      "cell_type": "code",
      "source": [
        "import pickle\n",
        "matches = pickle.load(open('/content/drive/MyDrive/dataset_level1.pkl','rb'))\n",
        "matches\n",
        "\n"
      ],
      "metadata": {
        "id": "8OX9ORie5GPe"
      },
      "execution_count": null,
      "outputs": []
    },
    {
      "cell_type": "code",
      "source": [
        "pd.options.display.max_rows=10000000\n",
        "matches['innings']"
      ],
      "metadata": {
        "id": "XbgMuBuD9F04"
      },
      "execution_count": null,
      "outputs": []
    },
    {
      "cell_type": "code",
      "source": [
        "count =1\n",
        "delivery_df = pd.DataFrame()\n",
        "\n",
        "for index, row in matches.iterrows():\n",
        "  if count in [75,108,150,180,268,360,443,458,584,748,982,1052,1111,1226,1345]:\n",
        "    count+=1\n",
        "    continue\n",
        "  \n",
        "  count+=1\n",
        "  ball_of_match = []\n",
        "  batsman = []\n",
        "  bowler = []\n",
        "  runs = []\n",
        "  player_of_dismissed = []\n",
        "  teams = []\n",
        "  batting_team = []\n",
        "  match_id = []\n",
        "  city = []\n",
        "  venue = []\n",
        "\n",
        "  for ball in row['innings'][0]['1st innings']['deliveries']:\n",
        "    for key in ball.keys():\n",
        "      match_id.append(count)\n",
        "      batting_team.append(row['innings'][0]['1st innings']['team'])\n",
        "      teams.append(row['info.teams'])\n",
        "      ball_of_match.append(key)\n",
        "      batsman.append(ball[key]['batsman'])\n",
        "      bowler.append(ball[key]['bowler'])\n",
        "      runs.append(ball[key]['runs']['total'])\n",
        "      city.append(row['info.city'])\n",
        "      venue.append(row['info.venue'])\n",
        "      try:\n",
        "        player_of_dismissed.append(ball[key]['wicket']['player_out'])\n",
        "\n",
        "      except:\n",
        "        player_of_dismissed.append('0')\n",
        "\n",
        "  loop_df = pd.DataFrame({\n",
        "      'match_id':match_id,\n",
        "      'teams': teams,\n",
        "      'batting_team':batting_team,\n",
        "      'ball':ball_of_match,\n",
        "      'batsman':batsman,\n",
        "      'bowler':bowler,\n",
        "      'runs':runs,\n",
        "      'player_dismissed':player_of_dismissed,\n",
        "      'city':city,\n",
        "      'venue':venue\n",
        "  })\n",
        "\n",
        "  delivery_df = delivery_df.append(loop_df)"
      ],
      "metadata": {
        "id": "tXM5hBPC_-IB"
      },
      "execution_count": null,
      "outputs": []
    },
    {
      "cell_type": "code",
      "source": [
        "pd.options.display.max_rows = 10000\n",
        "\n",
        "print(delivery_df)"
      ],
      "metadata": {
        "id": "wRFmZ4kDFQYp"
      },
      "execution_count": null,
      "outputs": []
    },
    {
      "cell_type": "markdown",
      "source": [
        "**Features to Train: batting_team, bowling_team, current_score, wickets_left, crr, city, balls_left, last_five total 8 parameters**"
      ],
      "metadata": {
        "id": "9MMdwZ6wGjWc"
      }
    },
    {
      "cell_type": "code",
      "source": [
        "def bowl(row):\n",
        "  for team in row['teams']:\n",
        "    if team != row['batting_team']:\n",
        "      return team"
      ],
      "metadata": {
        "id": "TVT2RbAnhydx"
      },
      "execution_count": null,
      "outputs": []
    },
    {
      "cell_type": "code",
      "source": [
        "delivery_df['bowling_team'] = delivery_df.apply(bowl,axis=1)"
      ],
      "metadata": {
        "id": "QNUyFcaPiQR9"
      },
      "execution_count": null,
      "outputs": []
    },
    {
      "cell_type": "code",
      "source": [
        "delivery_df"
      ],
      "metadata": {
        "id": "wcTzXQm5ijWz"
      },
      "execution_count": null,
      "outputs": []
    },
    {
      "cell_type": "code",
      "source": [
        "delivery_df.drop(columns=['teams'],inplace=True)"
      ],
      "metadata": {
        "id": "0PidXoMmirKA"
      },
      "execution_count": null,
      "outputs": []
    },
    {
      "cell_type": "code",
      "source": [
        "teams = [\n",
        "    'Australia',\n",
        "    'India',\n",
        "    'Bangladesh',\n",
        "    'New Zealand',\n",
        "    'South Africa',\n",
        "    'England',\n",
        "    'West Indies',\n",
        "    'Afghanistan',\n",
        "    'Pakistan',\n",
        "    'Sri Lanka'\n",
        "]"
      ],
      "metadata": {
        "id": "DkHDN2F4i8Dv"
      },
      "execution_count": null,
      "outputs": []
    },
    {
      "cell_type": "code",
      "source": [
        "delivery_df = delivery_df[delivery_df['batting_team'].isin(teams)]\n",
        "delivery_df = delivery_df[delivery_df['bowling_team'].isin(teams)]"
      ],
      "metadata": {
        "id": "u7uvFVK1j0sZ"
      },
      "execution_count": null,
      "outputs": []
    },
    {
      "cell_type": "code",
      "source": [
        "delivery_df['batting_team'].unique()"
      ],
      "metadata": {
        "id": "qBhi5A6DkIRb"
      },
      "execution_count": null,
      "outputs": []
    },
    {
      "cell_type": "code",
      "source": [
        "output = delivery_df[['match_id','batting_team','bowling_team','ball','runs','player_dismissed','city','venue']]"
      ],
      "metadata": {
        "id": "zw2fjzUatC33"
      },
      "execution_count": null,
      "outputs": []
    },
    {
      "cell_type": "code",
      "source": [
        "output2 = output.copy()"
      ],
      "metadata": {
        "id": "BAx9zxlyuUyx"
      },
      "execution_count": null,
      "outputs": []
    },
    {
      "cell_type": "code",
      "source": [
        "pickle.dump(output,open('dataset_level2.pkl','wb'))"
      ],
      "metadata": {
        "id": "FvD6QcFuufxg"
      },
      "execution_count": null,
      "outputs": []
    }
  ]
}